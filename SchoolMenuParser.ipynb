{
 "cells": [
  {
   "cell_type": "code",
   "execution_count": 2,
   "metadata": {},
   "outputs": [],
   "source": [
    "import requests\n",
    "from bs4 import BeautifulSoup\n",
    "import re"
   ]
  },
  {
   "cell_type": "code",
   "execution_count": 16,
   "metadata": {},
   "outputs": [],
   "source": [
    "def get_diet(code, ymd, weekday):\n",
    "    schMmealScCode = code               # int 1조식2중식3석식\n",
    "    schYmd = ymd                        # str 요청할 날짜 yyyy.mm.dd\n",
    "    if weekday == 5 or weekday == 6:    # 토요일,일요일 제외\n",
    "        element = \" \"                 # 공백 반환\n",
    "    else:\n",
    "        num = weekday + 1                  # 0월 1화 2수 3목 4금 5토 6일\n",
    "        URL = (\n",
    "                \"http://stu.sen.go.kr/sts_sci_md01_001.do?\"\n",
    "                \"schulCode=B100000519\"\n",
    "                \"&schulCrseScCode=4\"\n",
    "                \"&schulKndScCode=04\"\n",
    "                \"&schMmealScCode=%d&schYmd=%s\" % (schMmealScCode, schYmd)\n",
    "            )\n",
    "        \n",
    "        # http://stu.AAA.go.kr/ 관할 교육청 주소\n",
    "        # schulCode = 학교고유코드\n",
    "        # schulCrseScCode = 1유치원 2초등학교 3중학교 4고등학교\n",
    "        # schulKndScCode = 01유치원 02초등학교 03중학교 04고등학교\n",
    "\n",
    "        # get_html\n",
    "        html = \"\"\n",
    "        resp = requests.get(URL)\n",
    "        \n",
    "        if resp.status_code == 200 :\n",
    "            # 사이트 정상응답\n",
    "            html = resp.text\n",
    "            \n",
    "        soup = BeautifulSoup(html, 'html.parser')\n",
    "        element_data = soup.find_all(\"tr\")\n",
    "        element_data = element_data[2].find_all('td')\n",
    "        try:\n",
    "            element = str(element_data[num])\n",
    "\n",
    "            # filter\n",
    "            element_filter = ['[', ']', '<td class=\"textC last\">', '<td class=\"textC\">', '</td>', '&amp;', '(h)', '.']\n",
    "            for element_string in element_filter :\n",
    "                element = element.replace(element_string, '')\n",
    "            \n",
    "            # 줄 바꿈\n",
    "            element = element.replace('<br/>', '\\n')\n",
    "            \n",
    "            # 모든 공백 삭제\n",
    "            element = re.sub(r\"\\d\", \"\", element)\n",
    "\n",
    "        # 급식이 없을 경우\n",
    "        except:\n",
    "            element = \" \"\n",
    "    return element"
   ]
  }
 ],
 "metadata": {
  "kernelspec": {
   "display_name": "Python 3",
   "language": "python",
   "name": "python3"
  },
  "language_info": {
   "codemirror_mode": {
    "name": "ipython",
    "version": 3
   },
   "file_extension": ".py",
   "mimetype": "text/x-python",
   "name": "python",
   "nbconvert_exporter": "python",
   "pygments_lexer": "ipython3",
   "version": "3.7.3"
  }
 },
 "nbformat": 4,
 "nbformat_minor": 2
}
